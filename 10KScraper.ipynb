{
 "cells": [
  {
   "cell_type": "markdown",
   "metadata": {},
   "source": [
    "# Report Scraper\n",
    "This notebook is for collecting the 10K reports from EDGAR, scraping the data, then forming it into a dataframe for later use. "
   ]
  },
  {
   "cell_type": "code",
   "execution_count": 2,
   "metadata": {
    "ExecuteTime": {
     "end_time": "2018-01-08T15:21:32.532441Z",
     "start_time": "2018-01-08T15:21:32.526372Z"
    },
    "collapsed": true,
    "init_cell": true,
    "slideshow": {
     "slide_type": "slide"
    }
   },
   "outputs": [],
   "source": [
    "#import packages\n",
    "import numpy as np\n",
    "import pandas as pd\n",
    "import re\n",
    "import matplotlib.pyplot as plt\n",
    "import qgrid\n",
    "from urllib.request import urlretrieve\n",
    "from collections import Counter"
   ]
  },
  {
   "cell_type": "markdown",
   "metadata": {},
   "source": [
    "##### Provide the URL for EDGAR "
   ]
  },
  {
   "cell_type": "code",
   "execution_count": 3,
   "metadata": {
    "ExecuteTime": {
     "end_time": "2018-01-08T15:21:33.601246Z",
     "start_time": "2018-01-08T15:21:33.597630Z"
    },
    "collapsed": true,
    "slideshow": {
     "slide_type": "subslide"
    }
   },
   "outputs": [],
   "source": [
    "url = \"https://www.sec.gov/Archives/edgar/data/812011/0000927356-96-001229.txt\""
   ]
  },
  {
   "cell_type": "markdown",
   "metadata": {},
   "source": [
    "##### Save the File Locally"
   ]
  },
  {
   "cell_type": "code",
   "execution_count": 4,
   "metadata": {
    "ExecuteTime": {
     "end_time": "2018-01-08T15:21:35.344706Z",
     "start_time": "2018-01-08T15:21:34.671413Z"
    },
    "collapsed": true,
    "slideshow": {
     "slide_type": "fragment"
    }
   },
   "outputs": [],
   "source": [
    "file_path = urlretrieve(url, \"MTN_10K.txt\")[0]"
   ]
  },
  {
   "cell_type": "markdown",
   "metadata": {},
   "source": [
    "##### Open the Report"
   ]
  },
  {
   "cell_type": "code",
   "execution_count": 5,
   "metadata": {
    "ExecuteTime": {
     "end_time": "2018-01-08T15:21:35.357110Z",
     "start_time": "2018-01-08T15:21:35.349734Z"
    },
    "collapsed": true,
    "slideshow": {
     "slide_type": "slide"
    }
   },
   "outputs": [],
   "source": [
    "TenK = open(file_path, mode=\"r\").readlines()"
   ]
  },
  {
   "cell_type": "markdown",
   "metadata": {},
   "source": [
    "###  Data Indexing\n",
    "10K is a 100 page text file. First we need to look for the tables. \n",
    "This cell with find the line numbers (start and end) for the table we are scraping. \n",
    "\n",
    "1. Define `start` and `end` as the identifiers for finding the start and end lines of the table. \n",
    "1. For each line in the report\n",
    "    1. if the start is in the line, add the line to the start point. \n",
    "    1. if the end point is in the line, add it to end points "
   ]
  },
  {
   "cell_type": "code",
   "execution_count": 6,
   "metadata": {
    "ExecuteTime": {
     "end_time": "2018-01-08T15:21:35.413603Z",
     "start_time": "2018-01-08T15:21:35.399241Z"
    }
   },
   "outputs": [
    {
     "name": "stdout",
     "output_type": "stream",
     "text": [
      "[1449, 1517, 1593, 1656, 2212]\n",
      "[1508, 1584, 1647, 1740]\n"
     ]
    }
   ],
   "source": [
    "start = \"(IN THOUSANDS\"\n",
    "end = \"The accompanying notes to consolidated financial statements\"\n",
    "\n",
    "start_points = []\n",
    "end_points = []\n",
    "\n",
    "for count, line in enumerate(TenK):\n",
    "    if start in line:\n",
    "        (start_points.append(count))\n",
    "    if end in line:\n",
    "        (end_points.append(count))\n",
    "\n",
    "print(start_points)\n",
    "print(end_points)"
   ]
  },
  {
   "cell_type": "markdown",
   "metadata": {},
   "source": [
    "### Create a dictionary of StartPoint $\\rightarrow$ EndPoint"
   ]
  },
  {
   "cell_type": "code",
   "execution_count": 7,
   "metadata": {
    "ExecuteTime": {
     "end_time": "2018-01-08T15:21:35.745186Z",
     "start_time": "2018-01-08T15:21:35.733636Z"
    }
   },
   "outputs": [
    {
     "data": {
      "text/plain": [
       "{1449: 1508, 1517: 1584, 1593: 1647, 1656: 1740}"
      ]
     },
     "execution_count": 7,
     "metadata": {},
     "output_type": "execute_result"
    }
   ],
   "source": [
    "all_points = (dict(zip(start_points, end_points)))\n",
    "all_points"
   ]
  },
  {
   "cell_type": "markdown",
   "metadata": {},
   "source": [
    "### Partition the Report\n",
    "1. Go through each start and end line for the tables \n",
    "2. Add the lines for each table to `stmt_list`"
   ]
  },
  {
   "cell_type": "code",
   "execution_count": 8,
   "metadata": {
    "ExecuteTime": {
     "end_time": "2018-01-08T15:21:36.363428Z",
     "start_time": "2018-01-08T15:21:36.352111Z"
    }
   },
   "outputs": [
    {
     "data": {
      "text/plain": [
       "['               (IN THOUSANDS, EXCEPT SHARE AND PER SHARE AMOUNTS)\\n',\n",
       " ' \\n',\n",
       " '<TABLE>\\n',\n",
       " '<CAPTION>\\n',\n",
       " '                                          YEAR          YEAR          YEAR\\n',\n",
       " '                                          ENDED         ENDED         ENDED\\n',\n",
       " '                                      SEPTEMBER 30, SEPTEMBER 30, SEPTEMBER 30,\\n',\n",
       " '                                          1994          1995          1996\\n',\n",
       " '                                      ------------- ------------- -------------\\n',\n",
       " '<S>                                   <C>           <C>           <C>\\n',\n",
       " 'Net revenues:\\n',\n",
       " ' Resort.............................   $   124,982   $   126,349   $   140,288\\n',\n",
       " ' Real estate........................        22,203        16,526        48,655\\n',\n",
       " '                                       -----------   -----------   -----------\\n',\n",
       " ' Total net revenues.................       147,185       142,875       188,943\\n',\n",
       " 'Operating expenses:\\n',\n",
       " ' Resort.............................        78,365        82,305        89,890\\n',\n",
       " ' Real estate........................        20,341        14,983        40,801\\n',\n",
       " ' Corporate expense..................         7,160         6,701        12,698\\n',\n",
       " ' Depreciation and amortization......        17,186        17,968        18,148\\n',\n",
       " '                                       -----------   -----------   -----------\\n',\n",
       " ' Total operating expenses...........       123,052       121,957       161,537\\n',\n",
       " '                                       -----------   -----------   -----------\\n',\n",
       " 'Operating income from continuing op-\\n',\n",
       " ' erations...........................        24,133        20,918        27,406\\n',\n",
       " 'Other income (expense):\\n',\n",
       " ' Investment income..................         1,523         3,295           586\\n',\n",
       " ' Interest expense ..................       (22,468)      (19,498)      (14,904)\\n',\n",
       " ' Gain (loss) on disposal of fixed\\n',\n",
       " '  assets............................           128          (849)       (2,630)\\n',\n",
       " ' Other (Notes 9 and 10).............          (598)        3,291        (1,500)\\n',\n",
       " '                                       -----------   -----------   -----------\\n',\n",
       " 'Income from continuing operations\\n',\n",
       " ' before income taxes................         2,718         7,157         8,958\\n',\n",
       " 'Provision for income taxes (Note\\n',\n",
       " ' 8).................................        (1,957)       (3,875)       (4,223)\\n',\n",
       " '                                       -----------   -----------   -----------\\n',\n",
       " 'Income from continuing operations...           761         3,282         4,735\\n',\n",
       " 'Income from discontinued operations,\\n',\n",
       " ' net of applicable income tax provi-\\n',\n",
       " ' sion of $4,206 for the year ended\\n',\n",
       " ' September 30, 1994 (Notes 3 and\\n',\n",
       " ' 9).................................         7,058           --            --\\n',\n",
       " 'Gain on disposal of subsidiaries op-\\n',\n",
       " ' erating in discontinued segments,\\n',\n",
       " ' net of applicable income tax provi-\\n',\n",
       " ' sion of $13,357 for the year ended\\n',\n",
       " ' September 30, 1994 (Notes 3 and\\n',\n",
       " ' 9).................................        20,963           --            --\\n',\n",
       " '                                       -----------   -----------   -----------\\n',\n",
       " 'Net income..........................   $    28,782   $     3,282   $     4,735\\n',\n",
       " '                                       ===========   ===========   ===========\\n',\n",
       " 'Earnings per common share (Note 2):\\n',\n",
       " ' Income from continuing operations..   $       .08   $       .32   $       .44\\n',\n",
       " ' Income from discontinued opera-\\n',\n",
       " '  tions.............................           .69           --            --\\n',\n",
       " ' Gain on disposal of subsidiaries\\n',\n",
       " '  operating in discontinued seg-\\n',\n",
       " '  ments.............................          2.05           --            --\\n',\n",
       " '                                       -----------   -----------   -----------\\n',\n",
       " ' Net income.........................   $      2.82   $       .32   $       .44\\n',\n",
       " '                                       ===========   ===========   ===========\\n',\n",
       " ' Weighted average shares outstand-\\n',\n",
       " '  ing...............................    10,216,578    10,291,388    10,727,676\\n',\n",
       " '                                       ===========   ===========   ===========\\n',\n",
       " '</TABLE>\\n',\n",
       " ' \\n']"
      ]
     },
     "execution_count": 8,
     "metadata": {},
     "output_type": "execute_result"
    }
   ],
   "source": [
    "stmt_list = []\n",
    "\n",
    "for key, value in all_points.items():\n",
    "    x = key\n",
    "    y = value\n",
    "    stmt_list.append(TenK[x:y])\n",
    "stmt_list[1]"
   ]
  },
  {
   "cell_type": "markdown",
   "metadata": {},
   "source": [
    "### Newline Character Scraping\n",
    "\n",
    "1. Strip each line that does not contain data "
   ]
  },
  {
   "cell_type": "code",
   "execution_count": 9,
   "metadata": {
    "ExecuteTime": {
     "end_time": "2018-01-08T15:21:37.175398Z",
     "start_time": "2018-01-08T15:21:37.163137Z"
    }
   },
   "outputs": [
    {
     "data": {
      "text/plain": [
       "['               (IN THOUSANDS, EXCEPT SHARE AND PER SHARE AMOUNTS)',\n",
       " '',\n",
       " '<TABLE>',\n",
       " '<CAPTION>',\n",
       " '                                          YEAR          YEAR          YEAR',\n",
       " '                                          ENDED         ENDED         ENDED',\n",
       " '                                      SEPTEMBER 30, SEPTEMBER 30, SEPTEMBER 30,',\n",
       " '                                          1994          1995          1996',\n",
       " '                                      ------------- ------------- -------------',\n",
       " '<S>                                   <C>           <C>           <C>',\n",
       " 'Net revenues:',\n",
       " ' Resort.............................   $   124,982   $   126,349   $   140,288\\n',\n",
       " ' Real estate........................        22,203        16,526        48,655\\n',\n",
       " '                                       -----------   -----------   -----------',\n",
       " ' Total net revenues.................       147,185       142,875       188,943\\n',\n",
       " 'Operating expenses:',\n",
       " ' Resort.............................        78,365        82,305        89,890\\n',\n",
       " ' Real estate........................        20,341        14,983        40,801\\n',\n",
       " ' Corporate expense..................         7,160         6,701        12,698\\n',\n",
       " ' Depreciation and amortization......        17,186        17,968        18,148\\n',\n",
       " '                                       -----------   -----------   -----------',\n",
       " ' Total operating expenses...........       123,052       121,957       161,537\\n',\n",
       " '                                       -----------   -----------   -----------',\n",
       " 'Operating income from continuing op-',\n",
       " ' erations...........................        24,133        20,918        27,406\\n',\n",
       " 'Other income (expense):',\n",
       " ' Investment income..................         1,523         3,295           586\\n',\n",
       " ' Interest expense ..................       (22,468)      (19,498)      (14,904)\\n',\n",
       " ' Gain (loss) on disposal of fixed',\n",
       " '  assets............................           128          (849)       (2,630)\\n',\n",
       " ' Other (Notes 9 and 10).............          (598)        3,291        (1,500)\\n',\n",
       " '                                       -----------   -----------   -----------',\n",
       " 'Income from continuing operations',\n",
       " ' before income taxes................         2,718         7,157         8,958\\n',\n",
       " 'Provision for income taxes (Note',\n",
       " ' 8).................................        (1,957)       (3,875)       (4,223)\\n',\n",
       " '                                       -----------   -----------   -----------',\n",
       " 'Income from continuing operations...           761         3,282         4,735\\n',\n",
       " 'Income from discontinued operations,',\n",
       " ' net of applicable income tax provi-',\n",
       " ' sion of $4,206 for the year ended',\n",
       " ' September 30, 1994 (Notes 3 and',\n",
       " ' 9).................................         7,058           --            --\\n',\n",
       " 'Gain on disposal of subsidiaries op-',\n",
       " ' erating in discontinued segments,',\n",
       " ' net of applicable income tax provi-',\n",
       " ' sion of $13,357 for the year ended',\n",
       " ' September 30, 1994 (Notes 3 and',\n",
       " ' 9).................................        20,963           --            --\\n',\n",
       " '                                       -----------   -----------   -----------',\n",
       " 'Net income..........................   $    28,782   $     3,282   $     4,735\\n',\n",
       " '                                       ===========   ===========   ===========',\n",
       " 'Earnings per common share (Note 2):',\n",
       " ' Income from continuing operations..   $       .08   $       .32   $       .44',\n",
       " ' Income from discontinued opera-',\n",
       " '  tions.............................           .69           --            --\\n',\n",
       " ' Gain on disposal of subsidiaries',\n",
       " '  operating in discontinued seg-',\n",
       " '  ments.............................          2.05           --            --\\n',\n",
       " '                                       -----------   -----------   -----------',\n",
       " ' Net income.........................   $      2.82   $       .32   $       .44\\n',\n",
       " '                                       ===========   ===========   ===========',\n",
       " ' Weighted average shares outstand-',\n",
       " '  ing...............................    10,216,578    10,291,388    10,727,676\\n',\n",
       " '                                       ===========   ===========   ===========',\n",
       " '</TABLE>',\n",
       " '']"
      ]
     },
     "execution_count": 9,
     "metadata": {},
     "output_type": "execute_result"
    }
   ],
   "source": [
    "new_stmt_list = []\n",
    "\n",
    "for stmt in stmt_list:\n",
    "    new_stmt = []\n",
    "    for line in stmt:\n",
    "        if \"...\" in line:\n",
    "            line = line\n",
    "            new_stmt.append(line)\n",
    "        else: \n",
    "            line = line.rstrip()\n",
    "            new_stmt.append(line)\n",
    "    new_stmt_list.append(new_stmt)\n",
    "new_stmt_list[1]"
   ]
  },
  {
   "cell_type": "markdown",
   "metadata": {},
   "source": [
    "### Delimiter Scraping\n",
    "1. Identify the delimiters to split the data with. \n",
    "1. Replace the delimiters\n",
    "1. Add the indices of the delimiters to a list for each report. \n",
    "1. Combine all lists of indices for each statement"
   ]
  },
  {
   "cell_type": "code",
   "execution_count": 21,
   "metadata": {
    "ExecuteTime": {
     "end_time": "2018-01-08T15:31:11.086916Z",
     "start_time": "2018-01-08T15:31:11.072486Z"
    }
   },
   "outputs": [
    {
     "name": "stdout",
     "output_type": "stream",
     "text": [
      "[['52', '66'], ['38', '52', '66'], ['26', '37', '47', '58', '65', '76', '86'], ['38', '52', '66']]\n"
     ]
    }
   ],
   "source": [
    "stmt_table_indices = []\n",
    "for stmt in stmt_list:\n",
    "    line_indices = []\n",
    "    for line in stmt:\n",
    "        while \"<C>\" in line:\n",
    "            line_indices.append(str(len(line.partition(\"<C>\")[0])))\n",
    "            line = line.replace(\"<C>\", \"   \", 1)\n",
    "    stmt_table_indices.append(line_indices)\n",
    "print(stmt_table_indices)"
   ]
  },
  {
   "cell_type": "markdown",
   "metadata": {},
   "source": [
    "## Determine Headers\n",
    "\n",
    "1. Set regex pattern to identify headers\n",
    "2. Pull the headers into a list, headers"
   ]
  },
  {
   "cell_type": "code",
   "execution_count": 22,
   "metadata": {
    "ExecuteTime": {
     "end_time": "2018-01-08T15:31:14.693140Z",
     "start_time": "2018-01-08T15:31:14.683629Z"
    },
    "collapsed": true
   },
   "outputs": [],
   "source": [
    "header_pattern = r\"\\d\\d\\d\\d\\s{5,}\\d\\d\\d\\d\\s{5,}\"\n",
    "headers = []\n",
    "\n",
    "for stmt in stmt_list:\n",
    "    for line in stmt:\n",
    "        if re.search(header_pattern, line) != None:\n",
    "            headers.append(line)"
   ]
  },
  {
   "cell_type": "markdown",
   "metadata": {},
   "source": [
    "## Reformat headers into a list of strings"
   ]
  },
  {
   "cell_type": "code",
   "execution_count": 23,
   "metadata": {
    "ExecuteTime": {
     "end_time": "2018-01-08T15:31:15.901492Z",
     "start_time": "2018-01-08T15:31:15.892524Z"
    },
    "collapsed": true
   },
   "outputs": [],
   "source": [
    "header_str = str(headers[0].strip())\n",
    "header_str = re.sub(r\"\\s+\", \",\", header_str)\n",
    "header_str = header_str.split(sep=\",\")\n",
    "\n",
    "year1 = header_str[0]\n",
    "year2 = header_str[1]\n",
    "year3 = header_str[2]"
   ]
  },
  {
   "cell_type": "markdown",
   "metadata": {},
   "source": [
    "## Remove unneccesary lines from top of stmts"
   ]
  },
  {
   "cell_type": "code",
   "execution_count": 24,
   "metadata": {
    "ExecuteTime": {
     "end_time": "2018-01-08T15:31:16.921116Z",
     "start_time": "2018-01-08T15:31:16.908218Z"
    }
   },
   "outputs": [
    {
     "data": {
      "text/plain": [
       "['<S>                                   <C>           <C>           <C>',\n",
       " 'Net revenues:',\n",
       " ' Resort.............................   $   124,982   $   126,349   $   140,288\\n',\n",
       " ' Real estate........................        22,203        16,526        48,655\\n',\n",
       " '                                       -----------   -----------   -----------',\n",
       " ' Total net revenues.................       147,185       142,875       188,943\\n',\n",
       " 'Operating expenses:',\n",
       " ' Resort.............................        78,365        82,305        89,890\\n',\n",
       " ' Real estate........................        20,341        14,983        40,801\\n',\n",
       " ' Corporate expense..................         7,160         6,701        12,698\\n',\n",
       " ' Depreciation and amortization......        17,186        17,968        18,148\\n',\n",
       " '                                       -----------   -----------   -----------',\n",
       " ' Total operating expenses...........       123,052       121,957       161,537\\n',\n",
       " '                                       -----------   -----------   -----------',\n",
       " 'Operating income from continuing op-',\n",
       " ' erations...........................        24,133        20,918        27,406\\n',\n",
       " 'Other income (expense):',\n",
       " ' Investment income..................         1,523         3,295           586\\n',\n",
       " ' Interest expense ..................       (22,468)      (19,498)      (14,904)\\n',\n",
       " ' Gain (loss) on disposal of fixed',\n",
       " '  assets............................           128          (849)       (2,630)\\n',\n",
       " ' Other (Notes 9 and 10).............          (598)        3,291        (1,500)\\n',\n",
       " '                                       -----------   -----------   -----------',\n",
       " 'Income from continuing operations',\n",
       " ' before income taxes................         2,718         7,157         8,958\\n',\n",
       " 'Provision for income taxes (Note',\n",
       " ' 8).................................        (1,957)       (3,875)       (4,223)\\n',\n",
       " '                                       -----------   -----------   -----------',\n",
       " 'Income from continuing operations...           761         3,282         4,735\\n',\n",
       " 'Income from discontinued operations,',\n",
       " ' net of applicable income tax provi-',\n",
       " ' sion of $4,206 for the year ended',\n",
       " ' September 30, 1994 (Notes 3 and',\n",
       " ' 9).................................         7,058           --            --\\n',\n",
       " 'Gain on disposal of subsidiaries op-',\n",
       " ' erating in discontinued segments,',\n",
       " ' net of applicable income tax provi-',\n",
       " ' sion of $13,357 for the year ended',\n",
       " ' September 30, 1994 (Notes 3 and',\n",
       " ' 9).................................        20,963           --            --\\n',\n",
       " '                                       -----------   -----------   -----------',\n",
       " 'Net income..........................   $    28,782   $     3,282   $     4,735\\n',\n",
       " '                                       ===========   ===========   ===========',\n",
       " 'Earnings per common share (Note 2):',\n",
       " ' Income from continuing operations..   $       .08   $       .32   $       .44',\n",
       " ' Income from discontinued opera-',\n",
       " '  tions.............................           .69           --            --\\n',\n",
       " ' Gain on disposal of subsidiaries',\n",
       " '  operating in discontinued seg-',\n",
       " '  ments.............................          2.05           --            --\\n',\n",
       " '                                       -----------   -----------   -----------',\n",
       " ' Net income.........................   $      2.82   $       .32   $       .44\\n',\n",
       " '                                       ===========   ===========   ===========',\n",
       " ' Weighted average shares outstand-',\n",
       " '  ing...............................    10,216,578    10,291,388    10,727,676\\n',\n",
       " '                                       ===========   ===========   ===========',\n",
       " '</TABLE>',\n",
       " '']"
      ]
     },
     "execution_count": 24,
     "metadata": {},
     "output_type": "execute_result"
    }
   ],
   "source": [
    "final_stmt_list = []\n",
    "\n",
    "for stmt in new_stmt_list:\n",
    "    for i, line in enumerate(stmt):\n",
    "        if \"<S>\" in line:\n",
    "            x = i\n",
    "    stmt = stmt[x:]\n",
    "    final_stmt_list.append(stmt)\n",
    "    \n",
    "final_stmt_list[1]"
   ]
  },
  {
   "cell_type": "markdown",
   "metadata": {},
   "source": [
    "## Place headers"
   ]
  },
  {
   "cell_type": "code",
   "execution_count": 25,
   "metadata": {
    "ExecuteTime": {
     "end_time": "2018-01-08T15:31:18.512426Z",
     "start_time": "2018-01-08T15:31:18.500605Z"
    }
   },
   "outputs": [
    {
     "data": {
      "text/plain": [
       "['LINE ITEMS                                                 1995           1996',\n",
       " '                      ASSETS',\n",
       " 'Current assets:',\n",
       " '  Cash and cash equivalents........................   $ 47,534      $ 12,712\\n',\n",
       " '  Receivables......................................      5,135         5,741\\n',\n",
       " '  Inventories......................................      4,221         4,639\\n',\n",
       " '  Deferred income taxes (Note 8)...................      9,500        17,200\\n',\n",
       " '  Other current assets.............................      3,716         5,490\\n',\n",
       " '                                                      --------      --------',\n",
       " '    Total current assets...........................     70,106        45,782\\n',\n",
       " 'Property, plant, and equipment, net (Note 6).......    205,151       192,669\\n',\n",
       " 'Real estate held for sale..........................     54,858        88,665\\n',\n",
       " 'Deferred charges and other assets..................      6,106        10,440\\n',\n",
       " 'Intangible assets (Note 6).........................     93,407        85,056\\n',\n",
       " '                                                      --------      --------',\n",
       " '    Total assets...................................   $429,628      $422,612\\n',\n",
       " '                                                      ========      ========',\n",
       " \"       LIABILITIES AND STOCKHOLDERS' EQUITY\",\n",
       " 'Current liabilities:',\n",
       " '  Accounts payable and accrued expenses (Note 6)...   $ 37,419      $ 48,096\\n',\n",
       " '  Income taxes payable (Note 8)....................         81           325\\n',\n",
       " '  Rights payable to stockholders (Note 10).........        --         50,513\\n',\n",
       " '  Long-term debt due within one year (Notes 1 and',\n",
       " '   5)..............................................         63            63\\n',\n",
       " '                                                      --------      --------',\n",
       " '    Total current liabilities......................     37,563        98,997\\n',\n",
       " 'Long-term debt (Note 5)............................    191,250       144,687\\n',\n",
       " 'Other long-term liabilities........................      3,821        15,521\\n',\n",
       " 'Deferred income taxes (Note 8).....................     29,300        39,500\\n',\n",
       " 'Commitments and contingencies (Notes 1, 3, 10, and',\n",
       " ' 12)',\n",
       " \"Stockholders' equity (Notes 1, 12 and 13):\",\n",
       " '  Preferred stock, $.01 par value 25,000,000 shares',\n",
       " '   authorized, no shares issued and outstanding....        --            --\\n',\n",
       " '  Common stock--',\n",
       " '   Class A common stock, $.01 par value, 20,000,000',\n",
       " '    shares authorized, 6,408,846 and 6,213,110',\n",
       " '    shares issued and outstanding as of September',\n",
       " '    30, 1995 and 1996, respectively................         64            64\\n',\n",
       " '   Common Stock, $.01 par value, 40,000,000 shares',\n",
       " '    authorized, 3,471,992 and 3,786,890 shares',\n",
       " '    issued and outstanding as of September 30, 1995',\n",
       " '    and 1996, respectively.........................         35            36\\n',\n",
       " '  Additional paid-in capital.......................    135,660       123,807\\n',\n",
       " '  Retained earnings................................     31,935           --\\n',\n",
       " '                                                      --------      --------',\n",
       " \"    Total stockholders' equity.....................    167,694       123,907\\n\",\n",
       " '                                                      --------      --------',\n",
       " \"    Total liabilities and stockholders' equity.....   $429,628      $422,612\\n\",\n",
       " '                                                      ========      ========',\n",
       " '</TABLE>',\n",
       " '']"
      ]
     },
     "execution_count": 25,
     "metadata": {},
     "output_type": "execute_result"
    }
   ],
   "source": [
    "\n",
    "for stmt in final_stmt_list:\n",
    "    x = stmt[0].count(\"<C>\")\n",
    "    if x == 2:\n",
    "        stmt[0] = stmt[0].replace(\"<C>\", year2, 1).replace(\"<C>\", year3).replace(\"<S>\", \"LINE ITEMS\")\n",
    "    if x == 3:\n",
    "        stmt[0] = stmt[0].replace(\"<C>\", year1, 1).replace(\"<C>\", year2, 1).replace(\"<C>\", year3).replace(\"<S>\", \"LINE ITEMS\")\n",
    "        \n",
    "final_stmt_list[0]"
   ]
  },
  {
   "cell_type": "markdown",
   "metadata": {},
   "source": [
    "### Scrape the Values\n",
    "1. For each of the delimiter lists per statement\n",
    "    1. For each delimiter\n",
    "        1. Split the line into a list representing a row\n",
    "        1. add the row to a list \n",
    "    1. Make a dataframe. "
   ]
  },
  {
   "cell_type": "code",
   "execution_count": 28,
   "metadata": {
    "ExecuteTime": {
     "end_time": "2018-01-08T15:31:30.032950Z",
     "start_time": "2018-01-08T15:31:29.970325Z"
    }
   },
   "outputs": [
    {
     "data": {
      "text/html": [
       "<div>\n",
       "<style>\n",
       "    .dataframe thead tr:only-child th {\n",
       "        text-align: right;\n",
       "    }\n",
       "\n",
       "    .dataframe thead th {\n",
       "        text-align: left;\n",
       "    }\n",
       "\n",
       "    .dataframe tbody tr th {\n",
       "        vertical-align: top;\n",
       "    }\n",
       "</style>\n",
       "<table border=\"1\" class=\"dataframe\">\n",
       "  <thead>\n",
       "    <tr style=\"text-align: right;\">\n",
       "      <th></th>\n",
       "      <th>1</th>\n",
       "      <th>2</th>\n",
       "      <th>3</th>\n",
       "    </tr>\n",
       "    <tr>\n",
       "      <th>0</th>\n",
       "      <th></th>\n",
       "      <th></th>\n",
       "      <th></th>\n",
       "    </tr>\n",
       "  </thead>\n",
       "  <tbody>\n",
       "    <tr>\n",
       "      <th>LINE ITEMS</th>\n",
       "      <td>1994</td>\n",
       "      <td>1995</td>\n",
       "      <td>1996</td>\n",
       "    </tr>\n",
       "    <tr>\n",
       "      <th>Cash flows from operating activi-</th>\n",
       "      <td></td>\n",
       "      <td></td>\n",
       "      <td></td>\n",
       "    </tr>\n",
       "    <tr>\n",
       "      <th>ties:</th>\n",
       "      <td></td>\n",
       "      <td></td>\n",
       "      <td></td>\n",
       "    </tr>\n",
       "    <tr>\n",
       "      <th>Net income</th>\n",
       "      <td>28782</td>\n",
       "      <td>3282</td>\n",
       "      <td>4735</td>\n",
       "    </tr>\n",
       "    <tr>\n",
       "      <th>Adjustments to reconcile net income</th>\n",
       "      <td></td>\n",
       "      <td></td>\n",
       "      <td></td>\n",
       "    </tr>\n",
       "    <tr>\n",
       "      <th>to net cash provided by operating</th>\n",
       "      <td></td>\n",
       "      <td></td>\n",
       "      <td></td>\n",
       "    </tr>\n",
       "    <tr>\n",
       "      <th>activities:</th>\n",
       "      <td></td>\n",
       "      <td></td>\n",
       "      <td></td>\n",
       "    </tr>\n",
       "    <tr>\n",
       "      <th>Depreciation and amortization</th>\n",
       "      <td>18223</td>\n",
       "      <td>17968</td>\n",
       "      <td>18148</td>\n",
       "    </tr>\n",
       "    <tr>\n",
       "      <th>Deferred compensation payments in</th>\n",
       "      <td></td>\n",
       "      <td></td>\n",
       "      <td></td>\n",
       "    </tr>\n",
       "    <tr>\n",
       "      <th>excess of expense</th>\n",
       "      <td>(1257)</td>\n",
       "      <td>(1325)</td>\n",
       "      <td>(814)</td>\n",
       "    </tr>\n",
       "    <tr>\n",
       "      <th>Noncash cost of real estate</th>\n",
       "      <td></td>\n",
       "      <td></td>\n",
       "      <td></td>\n",
       "    </tr>\n",
       "    <tr>\n",
       "      <th>sales</th>\n",
       "      <td>13817</td>\n",
       "      <td>9208</td>\n",
       "      <td>32394</td>\n",
       "    </tr>\n",
       "    <tr>\n",
       "      <th>Noncash compensation related to</th>\n",
       "      <td></td>\n",
       "      <td></td>\n",
       "      <td></td>\n",
       "    </tr>\n",
       "    <tr>\n",
       "      <th>stock grants (Note 12)</th>\n",
       "      <td>1633</td>\n",
       "      <td>1633</td>\n",
       "      <td>25</td>\n",
       "    </tr>\n",
       "    <tr>\n",
       "      <th>Noncash compensation related to</th>\n",
       "      <td></td>\n",
       "      <td></td>\n",
       "      <td></td>\n",
       "    </tr>\n",
       "    <tr>\n",
       "      <th>exercise of stock options</th>\n",
       "      <td>--</td>\n",
       "      <td>--</td>\n",
       "      <td>1915</td>\n",
       "    </tr>\n",
       "    <tr>\n",
       "      <th>Gain on disposal of subsidiaries</th>\n",
       "      <td></td>\n",
       "      <td></td>\n",
       "      <td></td>\n",
       "    </tr>\n",
       "    <tr>\n",
       "      <th>(Notes 3 and 9)</th>\n",
       "      <td>(34320)</td>\n",
       "      <td>--</td>\n",
       "      <td>--</td>\n",
       "    </tr>\n",
       "    <tr>\n",
       "      <th>Bond discount amortized</th>\n",
       "      <td>548</td>\n",
       "      <td>--</td>\n",
       "      <td>--</td>\n",
       "    </tr>\n",
       "    <tr>\n",
       "      <th>Deferred financing costs amor-</th>\n",
       "      <td></td>\n",
       "      <td></td>\n",
       "      <td></td>\n",
       "    </tr>\n",
       "    <tr>\n",
       "      <th>tized</th>\n",
       "      <td>504</td>\n",
       "      <td>237</td>\n",
       "      <td>247</td>\n",
       "    </tr>\n",
       "    <tr>\n",
       "      <th>Loss (gain) on disposal of fixed</th>\n",
       "      <td></td>\n",
       "      <td></td>\n",
       "      <td></td>\n",
       "    </tr>\n",
       "    <tr>\n",
       "      <th>assets</th>\n",
       "      <td>(128)</td>\n",
       "      <td>849</td>\n",
       "      <td>2630</td>\n",
       "    </tr>\n",
       "    <tr>\n",
       "      <th>Deferred real estate revenue</th>\n",
       "      <td>1535</td>\n",
       "      <td>1500</td>\n",
       "      <td>--</td>\n",
       "    </tr>\n",
       "    <tr>\n",
       "      <th>Deferred income taxes (Note 8)</th>\n",
       "      <td>16000</td>\n",
       "      <td>2900</td>\n",
       "      <td>2500</td>\n",
       "    </tr>\n",
       "    <tr>\n",
       "      <th>Cash received on termination of</th>\n",
       "      <td></td>\n",
       "      <td></td>\n",
       "      <td></td>\n",
       "    </tr>\n",
       "    <tr>\n",
       "      <th>pension plan (Note 7)</th>\n",
       "      <td>500</td>\n",
       "      <td>--</td>\n",
       "      <td>--</td>\n",
       "    </tr>\n",
       "    <tr>\n",
       "      <th>Changes in assets and liabilities:</th>\n",
       "      <td></td>\n",
       "      <td></td>\n",
       "      <td></td>\n",
       "    </tr>\n",
       "    <tr>\n",
       "      <th>Accounts receivable net</th>\n",
       "      <td>6153</td>\n",
       "      <td>(349)</td>\n",
       "      <td>(606)</td>\n",
       "    </tr>\n",
       "    <tr>\n",
       "      <th>Inventories</th>\n",
       "      <td>(455)</td>\n",
       "      <td>(1236)</td>\n",
       "      <td>(418)</td>\n",
       "    </tr>\n",
       "    <tr>\n",
       "      <th>...</th>\n",
       "      <td>...</td>\n",
       "      <td>...</td>\n",
       "      <td>...</td>\n",
       "    </tr>\n",
       "    <tr>\n",
       "      <th>Purchase of Arrowhead (Note 4)</th>\n",
       "      <td>(30919)</td>\n",
       "      <td>--</td>\n",
       "      <td>--</td>\n",
       "    </tr>\n",
       "    <tr>\n",
       "      <th>Investment in joint venture</th>\n",
       "      <td>(2978)</td>\n",
       "      <td>(400)</td>\n",
       "      <td>(200)</td>\n",
       "    </tr>\n",
       "    <tr>\n",
       "      <th>Other</th>\n",
       "      <td>(363)</td>\n",
       "      <td>953</td>\n",
       "      <td>--</td>\n",
       "    </tr>\n",
       "    <tr>\n",
       "      <th>-------      --------      --------</th>\n",
       "      <td></td>\n",
       "      <td></td>\n",
       "      <td></td>\n",
       "    </tr>\n",
       "    <tr>\n",
       "      <th>Net cash provided by (used in)</th>\n",
       "      <td></td>\n",
       "      <td></td>\n",
       "      <td></td>\n",
       "    </tr>\n",
       "    <tr>\n",
       "      <th>investing activities</th>\n",
       "      <td>16289       (</td>\n",
       "      <td>42244)      (</td>\n",
       "      <td>54716)</td>\n",
       "    </tr>\n",
       "    <tr>\n",
       "      <th>Cash flows from financing activi-</th>\n",
       "      <td></td>\n",
       "      <td></td>\n",
       "      <td></td>\n",
       "    </tr>\n",
       "    <tr>\n",
       "      <th>ties:</th>\n",
       "      <td></td>\n",
       "      <td></td>\n",
       "      <td></td>\n",
       "    </tr>\n",
       "    <tr>\n",
       "      <th>Proceeds from borrowings under</th>\n",
       "      <td></td>\n",
       "      <td></td>\n",
       "      <td></td>\n",
       "    </tr>\n",
       "    <tr>\n",
       "      <th>long-term debt</th>\n",
       "      <td>69360</td>\n",
       "      <td>253400</td>\n",
       "      <td>84000</td>\n",
       "    </tr>\n",
       "    <tr>\n",
       "      <th>Payments on long-term debt</th>\n",
       "      <td>(94820)</td>\n",
       "      <td>(287741)</td>\n",
       "      <td>(130547)</td>\n",
       "    </tr>\n",
       "    <tr>\n",
       "      <th>Payment of reorganization items</th>\n",
       "      <td></td>\n",
       "      <td></td>\n",
       "      <td></td>\n",
       "    </tr>\n",
       "    <tr>\n",
       "      <th>financing costs and other</th>\n",
       "      <td>(1422)</td>\n",
       "      <td>--</td>\n",
       "      <td>--</td>\n",
       "    </tr>\n",
       "    <tr>\n",
       "      <th>-------      --------      --------</th>\n",
       "      <td></td>\n",
       "      <td></td>\n",
       "      <td></td>\n",
       "    </tr>\n",
       "    <tr>\n",
       "      <th>Net cash used in financing activ-</th>\n",
       "      <td></td>\n",
       "      <td></td>\n",
       "      <td></td>\n",
       "    </tr>\n",
       "    <tr>\n",
       "      <th>ities     (</th>\n",
       "      <td>26882)      (</td>\n",
       "      <td>34341)      (</td>\n",
       "      <td>46547)</td>\n",
       "    </tr>\n",
       "    <tr>\n",
       "      <th>-------      --------      --------</th>\n",
       "      <td></td>\n",
       "      <td></td>\n",
       "      <td></td>\n",
       "    </tr>\n",
       "    <tr>\n",
       "      <th>Net increase (decrease) in cash and</th>\n",
       "      <td></td>\n",
       "      <td></td>\n",
       "      <td></td>\n",
       "    </tr>\n",
       "    <tr>\n",
       "      <th>cash equivalents</th>\n",
       "      <td>45514</td>\n",
       "      <td>(35481)</td>\n",
       "      <td>(34822)</td>\n",
       "    </tr>\n",
       "    <tr>\n",
       "      <th>Cash and cash equivalents:</th>\n",
       "      <td></td>\n",
       "      <td></td>\n",
       "      <td></td>\n",
       "    </tr>\n",
       "    <tr>\n",
       "      <th>Beginning of period</th>\n",
       "      <td>37501</td>\n",
       "      <td>83015</td>\n",
       "      <td>47534</td>\n",
       "    </tr>\n",
       "    <tr>\n",
       "      <th>-------      --------      --------</th>\n",
       "      <td></td>\n",
       "      <td></td>\n",
       "      <td></td>\n",
       "    </tr>\n",
       "    <tr>\n",
       "      <th>End of period</th>\n",
       "      <td>83015</td>\n",
       "      <td>47534</td>\n",
       "      <td>12712</td>\n",
       "    </tr>\n",
       "    <tr>\n",
       "      <th>=======      ========      ========</th>\n",
       "      <td></td>\n",
       "      <td></td>\n",
       "      <td></td>\n",
       "    </tr>\n",
       "    <tr>\n",
       "      <th>Cash paid for interest included as a</th>\n",
       "      <td></td>\n",
       "      <td></td>\n",
       "      <td></td>\n",
       "    </tr>\n",
       "    <tr>\n",
       "      <th>use of cash in operating</th>\n",
       "      <td></td>\n",
       "      <td></td>\n",
       "      <td></td>\n",
       "    </tr>\n",
       "    <tr>\n",
       "      <th>activities</th>\n",
       "      <td>27182</td>\n",
       "      <td>13852</td>\n",
       "      <td>21880</td>\n",
       "    </tr>\n",
       "    <tr>\n",
       "      <th>=======      ========      ========</th>\n",
       "      <td></td>\n",
       "      <td></td>\n",
       "      <td></td>\n",
       "    </tr>\n",
       "    <tr>\n",
       "      <th>&lt;/TABLE&gt;</th>\n",
       "      <td></td>\n",
       "      <td></td>\n",
       "      <td></td>\n",
       "    </tr>\n",
       "    <tr>\n",
       "      <th></th>\n",
       "      <td></td>\n",
       "      <td></td>\n",
       "      <td></td>\n",
       "    </tr>\n",
       "  </tbody>\n",
       "</table>\n",
       "<p>75 rows × 3 columns</p>\n",
       "</div>"
      ],
      "text/plain": [
       "                                                     1               2  \\\n",
       "0                                                                        \n",
       "LINE ITEMS                                     1994             1995     \n",
       "Cash flows from operating activi-                                        \n",
       "ties:                                                                    \n",
       "Net income                                  28782            3282        \n",
       "Adjustments to reconcile net income                                      \n",
       "to net cash provided by operating                                        \n",
       "activities:                                                              \n",
       "Depreciation and amortization               18223           17968        \n",
       "Deferred compensation payments in                                        \n",
       "excess of expense                          (1257)          (1325)        \n",
       "Noncash cost of real estate                                              \n",
       "sales                                      13817            9208         \n",
       "Noncash compensation related to                                          \n",
       "stock grants (Note 12)                      1633            1633         \n",
       "Noncash compensation related to                                          \n",
       "exercise of stock options                    --              --          \n",
       "Gain on disposal of subsidiaries                                         \n",
       "(Notes 3 and 9)                           (34320)            --          \n",
       "Bond discount amortized                       548             --         \n",
       "Deferred financing costs amor-                                           \n",
       "tized                                        504             237         \n",
       "Loss (gain) on disposal of fixed                                         \n",
       "assets                                      (128)            849         \n",
       "Deferred real estate revenue                 1535            1500        \n",
       "Deferred income taxes (Note 8)              16000            2900        \n",
       "Cash received on termination of                                          \n",
       "pension plan (Note 7)                        500             --          \n",
       "Changes in assets and liabilities:                                       \n",
       "Accounts receivable net                      6153            (349)       \n",
       "Inventories                                  (455)          (1236)       \n",
       "...                                                ...             ...   \n",
       "Purchase of Arrowhead (Note 4)             (30919)            --         \n",
       "Investment in joint venture                 (2978)           (400)       \n",
       "Other                                        (363)            953        \n",
       "-------      --------      --------                                      \n",
       "Net cash provided by (used in)                                           \n",
       "investing activities                     16289       (   42244)      (   \n",
       "Cash flows from financing activi-                                        \n",
       "ties:                                                                    \n",
       "Proceeds from borrowings under                                           \n",
       "long-term debt                             69360          253400         \n",
       "Payments on long-term debt                 (94820)        (287741)       \n",
       "Payment of reorganization items                                          \n",
       "financing costs and other                  (1422)            --          \n",
       "-------      --------      --------                                      \n",
       "Net cash used in financing activ-                                        \n",
       "ities     (                              26882)      (   34341)      (   \n",
       "-------      --------      --------                                      \n",
       "Net increase (decrease) in cash and                                      \n",
       "cash equivalents                            45514          (35481)       \n",
       "Cash and cash equivalents:                                               \n",
       "Beginning of period                         37501           83015        \n",
       "-------      --------      --------                                      \n",
       "End of period                               83015           47534        \n",
       "=======      ========      ========                                      \n",
       "Cash paid for interest included as a                                     \n",
       "use of cash in operating                                                 \n",
       "activities                                  27182           13852        \n",
       "=======      ========      ========                                      \n",
       "</TABLE>                                                                 \n",
       "                                                                         \n",
       "\n",
       "                                                    3  \n",
       "0                                                      \n",
       "LINE ITEMS                                       1996  \n",
       "Cash flows from operating activi-                      \n",
       "ties:                                                  \n",
       "Net income                                       4735  \n",
       "Adjustments to reconcile net income                    \n",
       "to net cash provided by operating                      \n",
       "activities:                                            \n",
       "Depreciation and amortization                   18148  \n",
       "Deferred compensation payments in                      \n",
       "excess of expense                               (814)  \n",
       "Noncash cost of real estate                            \n",
       "sales                                           32394  \n",
       "Noncash compensation related to                        \n",
       "stock grants (Note 12)                             25  \n",
       "Noncash compensation related to                        \n",
       "exercise of stock options                        1915  \n",
       "Gain on disposal of subsidiaries                       \n",
       "(Notes 3 and 9)                                    --  \n",
       "Bond discount amortized                            --  \n",
       "Deferred financing costs amor-                         \n",
       "tized                                             247  \n",
       "Loss (gain) on disposal of fixed                       \n",
       "assets                                           2630  \n",
       "Deferred real estate revenue                       --  \n",
       "Deferred income taxes (Note 8)                   2500  \n",
       "Cash received on termination of                        \n",
       "pension plan (Note 7)                              --  \n",
       "Changes in assets and liabilities:                     \n",
       "Accounts receivable net                         (606)  \n",
       "Inventories                                     (418)  \n",
       "...                                               ...  \n",
       "Purchase of Arrowhead (Note 4)                     --  \n",
       "Investment in joint venture                     (200)  \n",
       "Other                                              --  \n",
       "-------      --------      --------                    \n",
       "Net cash provided by (used in)                         \n",
       "investing activities                           54716)  \n",
       "Cash flows from financing activi-                      \n",
       "ties:                                                  \n",
       "Proceeds from borrowings under                         \n",
       "long-term debt                                  84000  \n",
       "Payments on long-term debt                   (130547)  \n",
       "Payment of reorganization items                        \n",
       "financing costs and other                          --  \n",
       "-------      --------      --------                    \n",
       "Net cash used in financing activ-                      \n",
       "ities     (                                    46547)  \n",
       "-------      --------      --------                    \n",
       "Net increase (decrease) in cash and                    \n",
       "cash equivalents                              (34822)  \n",
       "Cash and cash equivalents:                             \n",
       "Beginning of period                             47534  \n",
       "-------      --------      --------                    \n",
       "End of period                                   12712  \n",
       "=======      ========      ========                    \n",
       "Cash paid for interest included as a                   \n",
       "use of cash in operating                               \n",
       "activities                                      21880  \n",
       "=======      ========      ========                    \n",
       "</TABLE>                                               \n",
       "                                                       \n",
       "\n",
       "[75 rows x 3 columns]"
      ]
     },
     "execution_count": 28,
     "metadata": {},
     "output_type": "execute_result"
    }
   ],
   "source": [
    "stmt_data = []\n",
    "for i, stmt_indices in enumerate(stmt_table_indices): \n",
    "    rows = []\n",
    "    cur_stmt = final_stmt_list[i] \n",
    "    for line in cur_stmt: \n",
    "        line = line.strip()\n",
    "        prev = 0\n",
    "        row = []\n",
    "        for indx in stmt_indices:\n",
    "            indx = int(indx)\n",
    "            row.append(line[prev:indx])\n",
    "            prev = indx\n",
    "        row.append(line[prev:])\n",
    "        row_clean = list(map(lambda x: x.replace(\".\", \"\").replace(\",\", \"\").replace(\"$\", \"\"), row))\n",
    "        rows.append(row_clean)\n",
    "    df = pd.DataFrame(rows).set_index([0])\n",
    "    stmt_data.append(df)\n",
    "stmt_data[3]"
   ]
  },
  {
   "cell_type": "markdown",
   "metadata": {},
   "source": [
    "## Delete unwanted stmts"
   ]
  },
  {
   "cell_type": "code",
   "execution_count": 29,
   "metadata": {
    "ExecuteTime": {
     "end_time": "2018-01-08T15:31:36.343016Z",
     "start_time": "2018-01-08T15:31:36.336482Z"
    },
    "collapsed": true
   },
   "outputs": [],
   "source": [
    "for i, stmt in enumerate(stmt_data):\n",
    "    if len(stmt.columns) > 3:\n",
    "        x = i\n",
    "        stmt_data.pop(x)"
   ]
  },
  {
   "cell_type": "markdown",
   "metadata": {},
   "source": [
    "## Save stmts to an excel doc with each sheet containing a single stmt"
   ]
  },
  {
   "cell_type": "code",
   "execution_count": null,
   "metadata": {
    "ExecuteTime": {
     "end_time": "2018-01-07T18:11:41.398992Z",
     "start_time": "2018-01-07T18:11:41.320154Z"
    },
    "collapsed": true
   },
   "outputs": [],
   "source": [
    "excel_writer = pd.ExcelWriter(\"output.xlsx\")\n",
    "x = 1\n",
    "for stmt in stmt_data:\n",
    "    stmt.to_excel(excel_writer, \"Sheet\" +str(x))\n",
    "    x = x + 1\n",
    "excel_writer.save()"
   ]
  },
  {
   "cell_type": "code",
   "execution_count": null,
   "metadata": {
    "collapsed": true
   },
   "outputs": [],
   "source": []
  }
 ],
 "metadata": {
  "kernelspec": {
   "display_name": "Python 3",
   "language": "python",
   "name": "python3"
  },
  "language_info": {
   "codemirror_mode": {
    "name": "ipython",
    "version": 3
   },
   "file_extension": ".py",
   "mimetype": "text/x-python",
   "name": "python",
   "nbconvert_exporter": "python",
   "pygments_lexer": "ipython3",
   "version": "3.6.3"
  }
 },
 "nbformat": 4,
 "nbformat_minor": 2
}
