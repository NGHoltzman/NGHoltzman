{
 "cells": [
  {
   "cell_type": "code",
   "execution_count": 20,
   "metadata": {
    "collapsed": true
   },
   "outputs": [],
   "source": [
    "#import packages\n",
    "import numpy as np\n",
    "import pandas as pd\n",
    "import re\n",
    "import matplotlib.pyplot as plt\n",
    "import qgrid\n",
    "from urllib.request import urlretrieve\n",
    "from collections import Counter"
   ]
  },
  {
   "cell_type": "code",
   "execution_count": 21,
   "metadata": {
    "collapsed": true
   },
   "outputs": [],
   "source": [
    "#declare url\n",
    "url = \"https://www.sec.gov/Archives/edgar/data/812011/0000927356-96-001229.txt\""
   ]
  },
  {
   "cell_type": "code",
   "execution_count": 22,
   "metadata": {},
   "outputs": [
    {
     "data": {
      "text/plain": [
       "('MTN_10K', <http.client.HTTPMessage at 0x1134d1208>)"
      ]
     },
     "execution_count": 22,
     "metadata": {},
     "output_type": "execute_result"
    }
   ],
   "source": [
    "#save file locally\n",
    "urlretrieve(url, \"MTN_10K\")"
   ]
  },
  {
   "cell_type": "code",
   "execution_count": 23,
   "metadata": {
    "collapsed": true
   },
   "outputs": [],
   "source": [
    "#open and read\n",
    "TenK = open(\"MTN_10K\", mode=\"r\").readlines()"
   ]
  },
  {
   "cell_type": "code",
   "execution_count": 24,
   "metadata": {},
   "outputs": [
    {
     "name": "stdout",
     "output_type": "stream",
     "text": [
      "[1449, 1517, 1593, 1656, 2212]\n",
      "[1508, 1584, 1647, 1740]\n"
     ]
    }
   ],
   "source": [
    "#locate start and end points of financial statements within TenK\n",
    "a = \"(IN THOUSANDS\"\n",
    "b = \"The accompanying notes to consolidated financial statements\"\n",
    "\n",
    "start_points = []\n",
    "end_points = []\n",
    "\n",
    "for count, line in enumerate(TenK):\n",
    "    if a in line:\n",
    "        (start_points.append(count))\n",
    "    if b in line:\n",
    "        (end_points.append(count))\n",
    "\n",
    "print(start_points)\n",
    "print(end_points)"
   ]
  },
  {
   "cell_type": "code",
   "execution_count": 25,
   "metadata": {},
   "outputs": [
    {
     "name": "stdout",
     "output_type": "stream",
     "text": [
      "{1449: 1508, 1517: 1584, 1593: 1647, 1656: 1740}\n"
     ]
    }
   ],
   "source": [
    "#zip start_points and end_points into a dictionary, all_points\n",
    "all_points = (dict(zip(start_points, end_points)))\n",
    "print(all_points)"
   ]
  },
  {
   "cell_type": "code",
   "execution_count": 26,
   "metadata": {
    "collapsed": true
   },
   "outputs": [],
   "source": [
    "#slice 10K by all_points and store resulting sub lists in a list, stmt_list\n",
    "\n",
    "stmt_list = []\n",
    "\n",
    "for key, value in all_points.items():\n",
    "    x = key\n",
    "    y = value\n",
    "    stmt_list.append(TenK[x:y])"
   ]
  },
  {
   "cell_type": "code",
   "execution_count": 27,
   "metadata": {},
   "outputs": [],
   "source": [
    "#Break out stmts from stmt_list\n",
    "stmt1 = stmt_list[0]\n",
    "stmt2 = stmt_list[1]\n",
    "stmt3 = stmt_list[2]"
   ]
  },
  {
   "cell_type": "code",
   "execution_count": 28,
   "metadata": {},
   "outputs": [],
   "source": [
    "#place a single delimiter to mark each column\n",
    "stmt1 = [re.sub(r\"(?:<C>)\", r\"|\", line, count = 1) for line in stmt1]\n",
    "stmt1 = [re.sub(r\"(?:<C>)\", r\"||\", line) for line in stmt1]"
   ]
  },
  {
   "cell_type": "code",
   "execution_count": 29,
   "metadata": {},
   "outputs": [
    {
     "name": "stdout",
     "output_type": "stream",
     "text": [
      "52\n",
      "64\n"
     ]
    }
   ],
   "source": [
    "#determine the number of characters that preceed each delimiter for stmt1\n",
    "locators = []\n",
    "\n",
    "for line in stmt1:\n",
    "    if \"|\" in line:\n",
    "        locator1 = line.partition(\"|\")\n",
    "        locator1 = len(locator1[0])\n",
    "        locators.append(locator1)\n",
    "    if \"||\" in line:\n",
    "        locator2 = line.partition(\"||\")\n",
    "        locator2 = len(locator2[0])\n",
    "        locators.append(locator2)\n",
    "        \n",
    "locators = Counter(locators).most_common(2)\n",
    "\n",
    "locator1 = locators[0][0]\n",
    "locator2 = locators[1][0]\n",
    "print(locator1)\n",
    "print(locator2)"
   ]
  },
  {
   "cell_type": "code",
   "execution_count": 11,
   "metadata": {},
   "outputs": [
    {
     "name": "stdout",
     "output_type": "stream",
     "text": [
      "(.{52})\n",
      "(.{64})\n"
     ]
    }
   ],
   "source": [
    "#Convert the locators to regex in order to fill in the remaining delimiters from stmts\n",
    "regex_locator1 = \"(.\" + \"{\" + \"{}\".format(locator1) + \"}\"+ \")\"\n",
    "regex_locator2 = \"(.\" + \"{\" + \"{}\".format(locator2) + \"}\"+ \")\"\n",
    "\n",
    "print(regex_locator1)\n",
    "print(regex_locator2)"
   ]
  },
  {
   "cell_type": "code",
   "execution_count": 12,
   "metadata": {},
   "outputs": [],
   "source": [
    "#add the delimters to each statement using the regex locators \n",
    "stmt1 = \"\".join(stmt1)\n",
    "\n",
    "stmt1 = re.sub(regex_locator1, r\"\\1|\", stmt1)\n",
    "stmt1 = re.sub(regex_locator2, r\"\\1|\", stmt1)\n",
    "stmt1 = stmt1.replace(\"| |\", \"|\").replace(\"||\" ,\"|\")"
   ]
  },
  {
   "cell_type": "code",
   "execution_count": 13,
   "metadata": {},
   "outputs": [
    {
     "name": "stdout",
     "output_type": "stream",
     "text": [
      "               (IN THOUSANDS, EXCEPT SHARE AND PER S|HARE AMOUNT|S)\n",
      " \n",
      "<TABLE>\n",
      "<CAPTION>\n",
      "                                                    |SEPTEMBER 3|0, SEPTEMBER 30,\n",
      "                                                    |    1995   |       1996\n",
      "                                                    |-----------|-- -------------\n",
      "<S>                                                 |          |\n",
      "                      ASSETS\n",
      "Current assets:\n",
      "  Cash and cash equivalents........................ |  $ 47,534 |     $ 12,712\n",
      "  Receivables...................................... |     5,135 |        5,741\n",
      "  Inventories...................................... |     4,221 |        4,639\n",
      "  Deferred income taxes (Note 8)................... |     9,500 |       17,200\n",
      "  Other current assets............................. |     3,716 |        5,490\n",
      "                                                    |  -------- |     --------\n",
      "    Total current assets........................... |    70,106 |       45,782\n",
      "Property, plant, and equipment, net (Note 6)....... |   205,151 |      192,669\n",
      "Real estate held for sale.......................... |    54,858 |       88,665\n",
      "Deferred charges and other assets.................. |     6,106 |       10,440\n",
      "Intangible assets (Note 6)......................... |    93,407 |       85,056\n",
      "                                                    |  -------- |     --------\n",
      "    Total assets................................... |  $429,628 |     $422,612\n",
      "                                                    |  ======== |     ========\n",
      "       LIABILITIES AND STOCKHOLDERS' EQUITY\n",
      "Current liabilities:\n",
      "  Accounts payable and accrued expenses (Note 6)... |  $ 37,419 |     $ 48,096\n",
      "  Income taxes payable (Note 8).................... |        81 |          325\n",
      "  Rights payable to stockholders (Note 10)......... |       --  |       50,513\n",
      "  Long-term debt due within one year (Notes 1 and\n",
      "   5).............................................. |        63 |           63\n",
      "                                                    |  -------- |     --------\n",
      "    Total current liabilities...................... |    37,563 |       98,997\n",
      "Long-term debt (Note 5)............................ |   191,250 |      144,687\n",
      "Other long-term liabilities........................ |     3,821 |       15,521\n",
      "Deferred income taxes (Note 8)..................... |    29,300 |       39,500\n",
      "Commitments and contingencies (Notes 1, 3, 10, and\n",
      " 12)\n",
      "Stockholders' equity (Notes 1, 12 and 13):\n",
      "  Preferred stock, $.01 par value 25,000,000 shares\n",
      "   authorized, no shares issued and outstanding.... |       --  |          --\n",
      "  Common stock--\n",
      "   Class A common stock, $.01 par value, 20,000,000\n",
      "    shares authorized, 6,408,846 and 6,213,110\n",
      "    shares issued and outstanding as of September\n",
      "    30, 1995 and 1996, respectively................ |        64 |           64\n",
      "   Common Stock, $.01 par value, 40,000,000 shares\n",
      "    authorized, 3,471,992 and 3,786,890 shares\n",
      "    issued and outstanding as of September 30, 1995\n",
      "    and 1996, respectively......................... |        35 |           36\n",
      "  Additional paid-in capital....................... |   135,660 |      123,807\n",
      "  Retained earnings................................ |    31,935 |          --\n",
      "                                                    |  -------- |     --------\n",
      "    Total stockholders' equity..................... |   167,694 |      123,907\n",
      "                                                    |  -------- |     --------\n",
      "    Total liabilities and stockholders' equity..... |  $429,628 |     $422,612\n",
      "                                                    |  ======== |     ========\n",
      "</TABLE>\n",
      " \n",
      "\n"
     ]
    }
   ],
   "source": [
    "print(stmt1)"
   ]
  },
  {
   "cell_type": "code",
   "execution_count": 14,
   "metadata": {},
   "outputs": [],
   "source": [
    "#write the contents of each statement its own file\n",
    "with open(\"TenK_stmt1\", mode=\"w+\") as TenK_stmt1:\n",
    "    TenK_stmt1.write(stmt1)\n",
    "    TenK_stmt1.close()"
   ]
  },
  {
   "cell_type": "code",
   "execution_count": 15,
   "metadata": {},
   "outputs": [],
   "source": [
    "#read file into a pandas dataframe and clean\n",
    "df1 = pd.read_csv(\"TenK_stmt1\", sep=\"|\", header=None, error_bad_lines=0)\n",
    "df1 = df1.replace(\"\\.|\\-|=|<|>|,|\\(\\D\\D\\D\\D.+|\\d\\)\", \"\", regex = True).replace(\"TABLE\", \"\").replace(\"CAPTION\", \"\").replace(\"/TABLE\",\"\")"
   ]
  }
 ],
 "metadata": {
  "kernelspec": {
   "display_name": "Python 3",
   "language": "python",
   "name": "python3"
  },
  "language_info": {
   "codemirror_mode": {
    "name": "ipython",
    "version": 3
   },
   "file_extension": ".py",
   "mimetype": "text/x-python",
   "name": "python",
   "nbconvert_exporter": "python",
   "pygments_lexer": "ipython3",
   "version": "3.6.3"
  }
 },
 "nbformat": 4,
 "nbformat_minor": 2
}
