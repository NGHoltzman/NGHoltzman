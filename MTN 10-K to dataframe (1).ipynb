{
 "cells": [
  {
   "cell_type": "code",
   "execution_count": 1,
   "metadata": {
    "collapsed": true
   },
   "outputs": [],
   "source": [
    "#import packages\n",
    "import numpy as np\n",
    "import pandas as pd\n",
    "import re\n",
    "import matplotlib.pyplot as plt\n",
    "import qgrid\n",
    "from urllib.request import urlretrieve"
   ]
  },
  {
   "cell_type": "code",
   "execution_count": 2,
   "metadata": {
    "collapsed": true
   },
   "outputs": [],
   "source": [
    "#declare url\n",
    "url = \"https://www.sec.gov/Archives/edgar/data/812011/0000927356-96-001229.txt\""
   ]
  },
  {
   "cell_type": "code",
   "execution_count": 3,
   "metadata": {},
   "outputs": [
    {
     "data": {
      "text/plain": [
       "('MTN_10K', <http.client.HTTPMessage at 0x10744e518>)"
      ]
     },
     "execution_count": 3,
     "metadata": {},
     "output_type": "execute_result"
    }
   ],
   "source": [
    "#save file locally\n",
    "urlretrieve(url, \"MTN_10K\")"
   ]
  },
  {
   "cell_type": "code",
   "execution_count": 4,
   "metadata": {
    "collapsed": true
   },
   "outputs": [],
   "source": [
    "#open and read\n",
    "TenK = open(\"MTN_10K\", mode=\"r\").readlines()"
   ]
  },
  {
   "cell_type": "code",
   "execution_count": 5,
   "metadata": {},
   "outputs": [
    {
     "name": "stdout",
     "output_type": "stream",
     "text": [
      "[1449, 1517, 1593, 1656, 2212]\n",
      "[1508, 1584, 1647, 1740]\n"
     ]
    }
   ],
   "source": [
    "#locate start and end points of financial statements within TenK\n",
    "a = \"(IN THOUSANDS\"\n",
    "b = \"The accompanying notes to consolidated financial statements\"\n",
    "\n",
    "start_points = []\n",
    "end_points = []\n",
    "\n",
    "for count, line in enumerate(TenK):\n",
    "    if a in line:\n",
    "        (start_points.append(count))\n",
    "    if b in line:\n",
    "        (end_points.append(count))\n",
    "\n",
    "print(start_points)\n",
    "print(end_points)"
   ]
  },
  {
   "cell_type": "code",
   "execution_count": 6,
   "metadata": {},
   "outputs": [
    {
     "name": "stdout",
     "output_type": "stream",
     "text": [
      "{1449: 1508, 1517: 1584, 1593: 1647, 1656: 1740}\n"
     ]
    }
   ],
   "source": [
    "#zip start_points and end_points into a dictionary, all_points\n",
    "all_points = (dict(zip(start_points, end_points)))\n",
    "print(all_points)"
   ]
  },
  {
   "cell_type": "code",
   "execution_count": 7,
   "metadata": {},
   "outputs": [],
   "source": [
    "#slice MTN_10K by all_points and store resulting sub lists in a list, stmt_list\n",
    "\n",
    "stmt_list = []\n",
    "\n",
    "for key, value in all_points.items():\n",
    "    x = key\n",
    "    y = value\n",
    "    stmt_list.append(TenK[x:y])"
   ]
  },
  {
   "cell_type": "code",
   "execution_count": 8,
   "metadata": {
    "collapsed": true
   },
   "outputs": [],
   "source": [
    "#join list of strings, stmt_list, into one long string\n",
    "stmt1 = \"\".join(stmt_list[0])\n",
    "stmt2 = \"\".join(stmt_list[1])\n",
    "stmt3 = \"\".join(stmt_list[2])\n",
    "\n",
    "statements = [stmt1, stmt2, stmt3]"
   ]
  },
  {
   "cell_type": "code",
   "execution_count": 55,
   "metadata": {},
   "outputs": [
    {
     "name": "stdout",
     "output_type": "stream",
     "text": [
      "64\n",
      "51\n"
     ]
    }
   ],
   "source": [
    "#define delimeter locations\n",
    "\n",
    "#stmt1\n",
    "column_locator1 = len(str(re.search(r\"[a-zA-Z0-9]\", stmt1).expand))\n",
    "column_locator2 = len(str(re.search(r\"\\.\", stmt1)))\n",
    "pattern1 = \"(.\" + \"{\" + \"{}\".format(column_locator1) + \"}\"+ \")\"\n",
    "pattern2 = \"(.\" + \"{\" + \"{}\".format(column_locator2) + \"}\"+ \")\"\n",
    "\n",
    "print(column_locator1)\n",
    "print(column_locator2)"
   ]
  },
  {
   "cell_type": "code",
   "execution_count": 54,
   "metadata": {},
   "outputs": [],
   "source": [
    "#add the delimters to each statement\n",
    "stmt1 = re.sub(pattern1, r\"\\1|\", stmt1)\n",
    "stmt1 = re.sub(pattern2, r\"\\1|\", stmt1)"
   ]
  },
  {
   "cell_type": "code",
   "execution_count": 13,
   "metadata": {
    "collapsed": true
   },
   "outputs": [],
   "source": [
    "#write the contents of each statement its own file\n",
    "with open(\"TenK_stmt1\", mode=\"w+\") as TenK_stmt1:\n",
    "    TenK_stmt1.write(stmt1)\n",
    "    TenK_stmt1.close()"
   ]
  },
  {
   "cell_type": "code",
   "execution_count": 53,
   "metadata": {},
   "outputs": [],
   "source": [
    "#read file into a pandas dataframe\n",
    "df = pd.read_csv(\"TenK_stmt1\", sep=\"|\", header=None)\n",
    "df = df.replace(\"\\.|\\-|=|<|>|,|\\(\\D\\D\\D\\D.+|\\d\\)\", \"\", regex = True).replace(\"TABLE\", \"\").replace(\"CAPTION\", \"\").replace(\"/TABLE\",\"\")"
   ]
  },
  {
   "cell_type": "code",
   "execution_count": null,
   "metadata": {
    "collapsed": true
   },
   "outputs": [],
   "source": []
  }
 ],
 "metadata": {
  "kernelspec": {
   "display_name": "Python 3",
   "language": "python",
   "name": "python3"
  },
  "language_info": {
   "codemirror_mode": {
    "name": "ipython",
    "version": 3
   },
   "file_extension": ".py",
   "mimetype": "text/x-python",
   "name": "python",
   "nbconvert_exporter": "python",
   "pygments_lexer": "ipython3",
   "version": "3.6.3"
  }
 },
 "nbformat": 4,
 "nbformat_minor": 2
}
