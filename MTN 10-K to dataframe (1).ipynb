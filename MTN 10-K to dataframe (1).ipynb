{
 "cells": [
  {
   "cell_type": "code",
   "execution_count": null,
   "metadata": {
    "collapsed": true
   },
   "outputs": [],
   "source": [
    "#import packages\n",
    "import numpy as np\n",
    "import pandas as pd\n",
    "import re\n",
    "import matplotlib.pyplot as plt\n",
    "import qgrid\n",
    "from urllib.request import urlretrieve"
   ]
  },
  {
   "cell_type": "code",
   "execution_count": 65,
   "metadata": {
    "collapsed": true
   },
   "outputs": [],
   "source": [
    "#declare url\n",
    "url = \"https://www.sec.gov/Archives/edgar/data/812011/0000927356-96-001229.txt\""
   ]
  },
  {
   "cell_type": "code",
   "execution_count": 66,
   "metadata": {},
   "outputs": [
    {
     "data": {
      "text/plain": [
       "('MTN_10K', <http.client.HTTPMessage at 0x10dd4a358>)"
      ]
     },
     "execution_count": 66,
     "metadata": {},
     "output_type": "execute_result"
    }
   ],
   "source": [
    "#save file locally\n",
    "urlretrieve(url, \"MTN_10K\")"
   ]
  },
  {
   "cell_type": "code",
   "execution_count": 67,
   "metadata": {
    "collapsed": true
   },
   "outputs": [],
   "source": [
    "#open and read\n",
    "TenK = open(\"MTN_10K\", mode=\"r\").readlines()"
   ]
  },
  {
   "cell_type": "code",
   "execution_count": 68,
   "metadata": {},
   "outputs": [
    {
     "name": "stdout",
     "output_type": "stream",
     "text": [
      "[1449, 1517, 1593, 1656, 2212]\n",
      "[1508, 1584, 1647, 1740]\n"
     ]
    }
   ],
   "source": [
    "#locate start and end points of financial statements within 10-K\n",
    "a = \"(IN THOUSANDS\"\n",
    "b = \"The accompanying notes to consolidated financial statements\"\n",
    "\n",
    "start_points = []\n",
    "end_points = []\n",
    "\n",
    "for count, line in enumerate(TenK):\n",
    "    if a in line:\n",
    "        (start_points.append(count))\n",
    "    if b in line:\n",
    "        (end_points.append(count))\n",
    "\n",
    "print(start_points)\n",
    "print(end_points)"
   ]
  },
  {
   "cell_type": "code",
   "execution_count": 69,
   "metadata": {},
   "outputs": [
    {
     "name": "stdout",
     "output_type": "stream",
     "text": [
      "{1449: 1508, 1517: 1584, 1593: 1647, 1656: 1740}\n"
     ]
    }
   ],
   "source": [
    "#zip start_points and end_points into a dictionary, all_points\n",
    "all_points = (dict(zip(start_points, end_points)))\n",
    "print(all_points)"
   ]
  },
  {
   "cell_type": "code",
   "execution_count": 70,
   "metadata": {
    "collapsed": true
   },
   "outputs": [],
   "source": [
    "#slice MTN_10K by all_points and store resulting sub lists in a list, stmt_list\n",
    "\n",
    "stmt_list = []\n",
    "\n",
    "for key, value in all_points.items():\n",
    "    x = key\n",
    "    y = value\n",
    "    stmt_list.append(TenK[x:y])"
   ]
  },
  {
   "cell_type": "code",
   "execution_count": 71,
   "metadata": {
    "collapsed": true
   },
   "outputs": [],
   "source": [
    "with open(\"TenK_STMT\", mode=\"w+\") as TenK_STMT:\n",
    "    for line in stmt_list[0]:\n",
    "        TenK_STMT.write(line)\n",
    "    TenK_STMT.close()"
   ]
  },
  {
   "cell_type": "code",
   "execution_count": 72,
   "metadata": {},
   "outputs": [
    {
     "name": "stdout",
     "output_type": "stream",
     "text": [
      "(.{64})\n",
      "(.{51})\n"
     ]
    }
   ],
   "source": [
    "#define delimeter locations\n",
    "\n",
    "with open(\"TenK_STMT\", mode=\"r+\") as TenK_STMT:\n",
    "    string = TenK_STMT.read()\n",
    "    column_locator1 = len(str(re.search(r\"[a-zA-Z0-9]\", string).expand))\n",
    "    column_locator2 = len(str(re.search(r\"\\.\", string)))\n",
    "    pattern1 = \"(.\" + \"{\" + \"{}\".format(column_locator1) + \"}\"+ \")\"\n",
    "    pattern2 = \"(.\" + \"{\" + \"{}\".format(column_locator2) + \"}\"+ \")\"\n",
    "    TenK_STMT.close()\n",
    "\n",
    "print(pattern1)\n",
    "print(pattern2)"
   ]
  },
  {
   "cell_type": "code",
   "execution_count": 73,
   "metadata": {
    "collapsed": true
   },
   "outputs": [],
   "source": [
    "#add the delimters to the file text\n",
    "with open(\"TenK_STMT\", mode=\"r+\") as TenK_STMT:\n",
    "    for line in TenK_STMT.readlines():\n",
    "        line = re.sub(pattern1, r\"\\1X\", line)\n",
    "        line = re.sub(pattern2, r\"\\1X\", line)\n",
    "        TenK_STMT.write(line)\n",
    "    TenK_STMT.close()"
   ]
  },
  {
   "cell_type": "code",
   "execution_count": 74,
   "metadata": {},
   "outputs": [
    {
     "name": "stdout",
     "output_type": "stream",
     "text": [
      "               (IN THOUSANDS, EXCEPT SHARE AND PER SHARE AMOUNTS)\n",
      " \n",
      "<TABLE>\n",
      "<CAPTION>\n",
      "                                                    SEPTEMBER 30, SEPTEMBER 30,\n",
      "                                                        1995          1996\n",
      "                                                    ------------- -------------\n",
      "<S>                                                 <C>           <C>\n",
      "                      ASSETS\n",
      "Current assets:\n",
      "  Cash and cash equivalents........................   $ 47,534      $ 12,712\n",
      "  Receivables......................................      5,135         5,741\n",
      "  Inventories......................................      4,221         4,639\n",
      "  Deferred income taxes (Note 8)...................      9,500        17,200\n",
      "  Other current assets.............................      3,716         5,490\n",
      "                                                      --------      --------\n",
      "    Total current assets...........................     70,106        45,782\n",
      "Property, plant, and equipment, net (Note 6).......    205,151       192,669\n",
      "Real estate held for sale..........................     54,858        88,665\n",
      "Deferred charges and other assets..................      6,106        10,440\n",
      "Intangible assets (Note 6).........................     93,407        85,056\n",
      "                                                      --------      --------\n",
      "    Total assets...................................   $429,628      $422,612\n",
      "                                                      ========      ========\n",
      "       LIABILITIES AND STOCKHOLDERS' EQUITY\n",
      "Current liabilities:\n",
      "  Accounts payable and accrued expenses (Note 6)...   $ 37,419      $ 48,096\n",
      "  Income taxes payable (Note 8)....................         81           325\n",
      "  Rights payable to stockholders (Note 10).........        --         50,513\n",
      "  Long-term debt due within one year (Notes 1 and\n",
      "   5)..............................................         63            63\n",
      "                                                      --------      --------\n",
      "    Total current liabilities......................     37,563        98,997\n",
      "Long-term debt (Note 5)............................    191,250       144,687\n",
      "Other long-term liabilities........................      3,821        15,521\n",
      "Deferred income taxes (Note 8).....................     29,300        39,500\n",
      "Commitments and contingencies (Notes 1, 3, 10, and\n",
      " 12)\n",
      "Stockholders' equity (Notes 1, 12 and 13):\n",
      "  Preferred stock, $.01 par value 25,000,000 shares\n",
      "   authorized, no shares issued and outstanding....        --            --\n",
      "  Common stock--\n",
      "   Class A common stock, $.01 par value, 20,000,000\n",
      "    shares authorized, 6,408,846 and 6,213,110\n",
      "    shares issued and outstanding as of September\n",
      "    30, 1995 and 1996, respectively................         64            64\n",
      "   Common Stock, $.01 par value, 40,000,000 shares\n",
      "    authorized, 3,471,992 and 3,786,890 shares\n",
      "    issued and outstanding as of September 30, 1995\n",
      "    and 1996, respectively.........................         35            36\n",
      "  Additional paid-in capital.......................    135,660       123,807\n",
      "  Retained earnings................................     31,935           --\n",
      "                                                      --------      --------\n",
      "    Total stockholders' equity.....................    167,694       123,907\n",
      "                                                      --------      --------\n",
      "    Total liabilities and stockholders' equity.....   $429,628      $422,612\n",
      "                                                      ========      ========\n",
      "</TABLE>\n",
      " \n",
      "               (IN THOUSANDS, EXCEPT SHARE AND PER XSHARE AMOUNTSX)\n",
      " \n",
      "<TABLE>\n",
      "<CAPTION>\n",
      "                                                   X SEPTEMBER 30X, SEPTEMBER 30,\n",
      "                                                   X     1995    X      1996\n",
      "                                                   X ------------X- -------------\n",
      "<S>                                                X <C>         X  <C>\n",
      "                      ASSETS\n",
      "Current assets:\n",
      "  Cash and cash equivalents........................X   $ 47,534  X    $ 12,712\n",
      "  Receivables......................................X      5,135  X       5,741\n",
      "  Inventories......................................X      4,221  X       4,639\n",
      "  Deferred income taxes (Note 8)...................X      9,500  X      17,200\n",
      "  Other current assets.............................X      3,716  X       5,490\n",
      "                                                   X   --------  X    --------\n",
      "    Total current assets...........................X     70,106  X      45,782\n",
      "Property, plant, and equipment, net (Note 6).......X    205,151  X     192,669\n",
      "Real estate held for sale..........................X     54,858  X      88,665\n",
      "Deferred charges and other assets..................X      6,106  X      10,440\n",
      "Intangible assets (Note 6).........................X     93,407  X      85,056\n",
      "                                                   X   --------  X    --------\n",
      "    Total assets...................................X   $429,628  X    $422,612\n",
      "                                                   X   ========  X    ========\n",
      "       LIABILITIES AND STOCKHOLDERS' EQUITY\n",
      "Current liabilities:\n",
      "  Accounts payable and accrued expenses (Note 6)...X   $ 37,419  X    $ 48,096\n",
      "  Income taxes payable (Note 8)....................X         81  X         325\n",
      "  Rights payable to stockholders (Note 10).........X        --   X      50,513\n",
      "  Long-term debt due within one year (Notes 1 and\n",
      "   5)..............................................X         63  X          63\n",
      "                                                   X   --------  X    --------\n",
      "    Total current liabilities......................X     37,563  X      98,997\n",
      "Long-term debt (Note 5)............................X    191,250  X     144,687\n",
      "Other long-term liabilities........................X      3,821  X      15,521\n",
      "Deferred income taxes (Note 8).....................X     29,300  X      39,500\n",
      "Commitments and contingencies (Notes 1, 3, 10, and\n",
      " 12)\n",
      "Stockholders' equity (Notes 1, 12 and 13):\n",
      "  Preferred stock, $.01 par value 25,000,000 sharesX\n",
      "   authorized, no shares issued and outstanding....X        --   X         --\n",
      "  Common stock--\n",
      "   Class A common stock, $.01 par value, 20,000,000X\n",
      "    shares authorized, 6,408,846 and 6,213,110\n",
      "    shares issued and outstanding as of September\n",
      "    30, 1995 and 1996, respectively................X         64  X          64\n",
      "   Common Stock, $.01 par value, 40,000,000 shares\n",
      "    authorized, 3,471,992 and 3,786,890 shares\n",
      "    issued and outstanding as of September 30, 1995X\n",
      "    and 1996, respectively.........................X         35  X          36\n",
      "  Additional paid-in capital.......................X    135,660  X     123,807\n",
      "  Retained earnings................................X     31,935  X         --\n",
      "                                                   X   --------  X    --------\n",
      "    Total stockholders' equity.....................X    167,694  X     123,907\n",
      "                                                   X   --------  X    --------\n",
      "    Total liabilities and stockholders' equity.....X   $429,628  X    $422,612\n",
      "                                                   X   ========  X    ========\n",
      "</TABLE>\n",
      " \n",
      "\n"
     ]
    }
   ],
   "source": [
    "with open(\"TenK_STMT\", mode=\"r\") as TenK_STMT:\n",
    "    print(TenK_STMT.read())"
   ]
  },
  {
   "cell_type": "code",
   "execution_count": null,
   "metadata": {
    "collapsed": true
   },
   "outputs": [],
   "source": []
  }
 ],
 "metadata": {
  "kernelspec": {
   "display_name": "Python 3",
   "language": "python",
   "name": "python3"
  },
  "language_info": {
   "codemirror_mode": {
    "name": "ipython",
    "version": 3
   },
   "file_extension": ".py",
   "mimetype": "text/x-python",
   "name": "python",
   "nbconvert_exporter": "python",
   "pygments_lexer": "ipython3",
   "version": "3.6.3"
  }
 },
 "nbformat": 4,
 "nbformat_minor": 2
}
